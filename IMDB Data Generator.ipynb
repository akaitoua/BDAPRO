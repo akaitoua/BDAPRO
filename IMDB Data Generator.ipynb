{
 "cells": [
  {
   "cell_type": "markdown",
   "metadata": {},
   "source": [
    "# IMDB Data Generator\n",
    "This a script for generating modified data using the `titles.basic`file from IMDB. \n",
    "\n",
    "## Instructions\n",
    "\n",
    "1. Visit the [IMDB dataset website](https://datasets.imdbws.com) and download the latest `title.basics.tsv.gz`file\n",
    "2. Extract the file and move it (`title.basics.tsv`) to the folder where this script is\n",
    "3. Define your preferences in the section bellow\n",
    "4. Run all the rows of this script\n",
    "\n",
    "The output of this script would be the following files:\n",
    "\n",
    "* Modified dataset: `modified.csv`\n",
    "* Original dataset: `original.csv`"
   ]
  },
  {
   "cell_type": "markdown",
   "metadata": {},
   "source": [
    "## Libraries\n",
    "The following lines are in charge of loading the `csv` files and the necesary functions for this script.\n",
    "\n",
    "**Warning:** Wait until the `Done reading!` line is displayed before runing the rest of the script."
   ]
  },
  {
   "cell_type": "code",
   "execution_count": 211,
   "metadata": {},
   "outputs": [
    {
     "name": "stdout",
     "output_type": "stream",
     "text": [
      "Reading file ...\n",
      "Done reading!\n"
     ]
    }
   ],
   "source": [
    "import pandas as pd\n",
    "\n",
    "print(\"Reading file ...\")\n",
    "df = pd.read_csv('title.basics.tsv', delimiter='\\t',encoding='utf-8-sig', low_memory=False)\n",
    "print(\"Done reading!\")"
   ]
  },
  {
   "cell_type": "code",
   "execution_count": 212,
   "metadata": {},
   "outputs": [],
   "source": [
    "import random\n",
    "from string import ascii_letters\n",
    "\n",
    "def modify_str(s, n=3):\n",
    "    inds = [i for i,_ in enumerate(s) if not s.isspace()]\n",
    "    \n",
    "    if len(inds) < n: return s\n",
    "\n",
    "    sam = random.sample(inds, n)\n",
    "\n",
    "    letts =  iter(random.sample(ascii_letters, n))\n",
    "    lst = list(s)\n",
    "    for ind in sam:\n",
    "        lst[ind] = next(letts)\n",
    "\n",
    "    return \"\".join(lst)"
   ]
  },
  {
   "cell_type": "markdown",
   "metadata": {},
   "source": [
    "## Preferences\n",
    "In this section you can set the following properties:\n",
    "\n",
    "* Selection of fields from the `csv` file\n",
    "* The number of entries the output file should have\n",
    "* How many of those entries should be modified (ex. 20% -> `dat_mod_quote = 0.2`)"
   ]
  },
  {
   "cell_type": "code",
   "execution_count": 233,
   "metadata": {},
   "outputs": [],
   "source": [
    "data = df[['primaryTitle', 'originalTitle', 'titleType','startYear', 'genres']]\n",
    "data_size = 10000\n",
    "dat_mod_quote = 0.2"
   ]
  },
  {
   "cell_type": "markdown",
   "metadata": {},
   "source": [
    "## Script Operations"
   ]
  },
  {
   "cell_type": "markdown",
   "metadata": {},
   "source": [
    "### 1. Sample Generation"
   ]
  },
  {
   "cell_type": "code",
   "execution_count": 234,
   "metadata": {},
   "outputs": [],
   "source": [
    "modified = data.sample(data_size)\n",
    "original = modified.copy()\n",
    "indexes = modified.index.values\n",
    "columns = modified.columns.values"
   ]
  },
  {
   "cell_type": "markdown",
   "metadata": {},
   "source": [
    "### 2. Data Modification"
   ]
  },
  {
   "cell_type": "code",
   "execution_count": 235,
   "metadata": {},
   "outputs": [],
   "source": [
    "to_modify = modified.sample(int(data_size * dat_mod_quote))\n",
    "to_modify_indexes = to_modify.index.values"
   ]
  },
  {
   "cell_type": "code",
   "execution_count": 236,
   "metadata": {},
   "outputs": [],
   "source": [
    "for index in to_modify_indexes :\n",
    "    modified.at[index, 'primaryTitle'] = modify_str(modified.at[index, 'primaryTitle'])\n",
    "    modified.at[index, 'originalTitle'] = modify_str(modified.at[index, 'originalTitle'])\n",
    "    modified.at[index, 'titleType'] = modify_str(modified.at[index, 'titleType'], 1)"
   ]
  },
  {
   "cell_type": "markdown",
   "metadata": {},
   "source": [
    "### 3. Output"
   ]
  },
  {
   "cell_type": "code",
   "execution_count": 237,
   "metadata": {},
   "outputs": [
    {
     "name": "stdout",
     "output_type": "stream",
     "text": [
      "Generating output files...\n",
      "Files generated!\n"
     ]
    }
   ],
   "source": [
    "print(\"Generating output files...\")\n",
    "modified.to_csv('modified.csv', sep='\\t')\n",
    "original.to_csv('original.csv', sep='\\t')\n",
    "print(\"Files generated!\")"
   ]
  },
  {
   "cell_type": "code",
   "execution_count": null,
   "metadata": {},
   "outputs": [],
   "source": []
  }
 ],
 "metadata": {
  "kernelspec": {
   "display_name": "Python 3",
   "language": "python",
   "name": "python3"
  },
  "language_info": {
   "codemirror_mode": {
    "name": "ipython",
    "version": 3
   },
   "file_extension": ".py",
   "mimetype": "text/x-python",
   "name": "python",
   "nbconvert_exporter": "python",
   "pygments_lexer": "ipython3",
   "version": "3.6.5"
  }
 },
 "nbformat": 4,
 "nbformat_minor": 2
}
